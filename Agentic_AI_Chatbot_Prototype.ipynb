{
  "nbformat": 4,
  "nbformat_minor": 0,
  "metadata": {
    "colab": {
      "provenance": [],
      "include_colab_link": true
    },
    "kernelspec": {
      "name": "python3",
      "display_name": "Python 3"
    },
    "language_info": {
      "name": "python"
    }
  },
  "cells": [
    {
      "cell_type": "markdown",
      "metadata": {
        "id": "view-in-github",
        "colab_type": "text"
      },
      "source": [
        "<a href=\"https://colab.research.google.com/github/waleedmajeed001/45-Question-Assignment/blob/main/Agentic_AI_Chatbot_Prototype.ipynb\" target=\"_parent\"><img src=\"https://colab.research.google.com/assets/colab-badge.svg\" alt=\"Open In Colab\"/></a>"
      ]
    },
    {
      "cell_type": "code",
      "source": [
        "# Install required packages\n",
        "!pip install -q -U google-generativeai\n",
        "!pip install -qU langchain-google-genai\n",
        "!pip install -qU langchain\n"
      ],
      "metadata": {
        "colab": {
          "base_uri": "https://localhost:8080/"
        },
        "id": "Xp9CIgw_7-p5",
        "outputId": "00bb19f0-7ca1-460c-e8bc-7ced4f7000bf"
      },
      "execution_count": null,
      "outputs": [
        {
          "output_type": "stream",
          "name": "stdout",
          "text": [
            "\u001b[2K   \u001b[90m━━━━━━━━━━━━━━━━━━━━━━━━━━━━━━━━━━━━━━━━\u001b[0m \u001b[32m41.3/41.3 kB\u001b[0m \u001b[31m2.0 MB/s\u001b[0m eta \u001b[36m0:00:00\u001b[0m\n",
            "\u001b[2K   \u001b[90m━━━━━━━━━━━━━━━━━━━━━━━━━━━━━━━━━━━━━━━━\u001b[0m \u001b[32m1.0/1.0 MB\u001b[0m \u001b[31m17.2 MB/s\u001b[0m eta \u001b[36m0:00:00\u001b[0m\n",
            "\u001b[2K   \u001b[90m━━━━━━━━━━━━━━━━━━━━━━━━━━━━━━━━━━━━━━━━\u001b[0m \u001b[32m409.7/409.7 kB\u001b[0m \u001b[31m25.8 MB/s\u001b[0m eta \u001b[36m0:00:00\u001b[0m\n",
            "\u001b[?25h"
          ]
        }
      ]
    },
    {
      "cell_type": "markdown",
      "source": [
        "## **Set up essential libraries for Google Generative AI and LangChain.**"
      ],
      "metadata": {
        "id": "3Iyf_1O48J5P"
      }
    },
    {
      "cell_type": "code",
      "source": [
        "import google.generativeai as genai\n",
        "from langchain_google_genai import llms\n",
        "from langchain.chains import ConversationChain\n",
        "from langchain.memory import ConversationBufferMemory\n",
        "from langchain_google_genai import ChatGoogleGenerativeAI\n",
        "from langchain_core.messages import HumanMessage\n",
        "from IPython.display import display, Markdown\n",
        "import textwrap\n",
        "import os\n"
      ],
      "metadata": {
        "id": "Hbyjdss98XYO"
      },
      "execution_count": null,
      "outputs": []
    },
    {
      "cell_type": "markdown",
      "source": [
        "### **Configure the API Key:** Add the Gemini API Key.\n",
        "\n",
        "---\n",
        "\n",
        "\n"
      ],
      "metadata": {
        "id": "0iT-HQNR8f9y"
      }
    },
    {
      "cell_type": "code",
      "source": [
        "# Securely store the API key in Google Colab secrets manager\n",
        "from google.colab import userdata\n",
        "GEMINI_API_KEY = userdata.get(\"GEMINI_API_KEY\")\n",
        "\n",
        "# Configure the generative AI client\n",
        "genai.configure(api_key=GEMINI_API_KEY)\n"
      ],
      "metadata": {
        "id": "R2T6rNCM8j-H"
      },
      "execution_count": null,
      "outputs": []
    },
    {
      "cell_type": "markdown",
      "source": [
        "### **Verify Installation:** Check if the models are loaded successfully.\n"
      ],
      "metadata": {
        "id": "VxcAxkCs80fQ"
      }
    },
    {
      "cell_type": "code",
      "source": [
        "# List available models\n",
        "available_models = list(llms.genai.list_models())\n",
        "for model in available_models:\n",
        "    print(model.name)"
      ],
      "metadata": {
        "colab": {
          "base_uri": "https://localhost:8080/",
          "height": 590
        },
        "id": "WSFRZO0T8xOt",
        "outputId": "b5c74aa4-a1a8-4253-8ea9-e8cbb9a5d79f"
      },
      "execution_count": null,
      "outputs": [
        {
          "output_type": "stream",
          "name": "stdout",
          "text": [
            "models/chat-bison-001\n",
            "models/text-bison-001\n",
            "models/embedding-gecko-001\n",
            "models/gemini-1.0-pro-latest\n",
            "models/gemini-1.0-pro\n",
            "models/gemini-pro\n",
            "models/gemini-1.0-pro-001\n",
            "models/gemini-1.0-pro-vision-latest\n",
            "models/gemini-pro-vision\n",
            "models/gemini-1.5-pro-latest\n",
            "models/gemini-1.5-pro-001\n",
            "models/gemini-1.5-pro-002\n",
            "models/gemini-1.5-pro\n",
            "models/gemini-1.5-pro-exp-0801\n",
            "models/gemini-1.5-pro-exp-0827\n",
            "models/gemini-1.5-flash-latest\n",
            "models/gemini-1.5-flash-001\n",
            "models/gemini-1.5-flash-001-tuning\n",
            "models/gemini-1.5-flash\n",
            "models/gemini-1.5-flash-exp-0827\n",
            "models/gemini-1.5-flash-002\n",
            "models/gemini-1.5-flash-8b\n",
            "models/gemini-1.5-flash-8b-001\n",
            "models/gemini-1.5-flash-8b-latest\n",
            "models/gemini-1.5-flash-8b-exp-0827\n",
            "models/gemini-1.5-flash-8b-exp-0924\n",
            "models/learnlm-1.5-pro-experimental\n",
            "models/gemini-exp-1114\n",
            "models/gemini-exp-1121\n",
            "models/gemini-exp-1206\n",
            "models/embedding-001\n",
            "models/text-embedding-004\n",
            "models/aqa\n"
          ]
        }
      ]
    },
    {
      "cell_type": "markdown",
      "source": [
        "## **Career Guide**\n",
        "\n",
        "\n",
        "*   Skill-Based Career Recommendations\n",
        "*   Interest-Based Suggestions\n",
        "*   Learning Path Suggestions\n",
        "*   Salary insights\n",
        "*   Offer an overview of the recommended industry, including demand and trends.\n",
        "\n",
        "\n",
        "\n"
      ],
      "metadata": {
        "id": "VlApAK9VBKH_"
      }
    },
    {
      "cell_type": "code",
      "source": [
        "from langchain_core.messages import HumanMessage\n",
        "from IPython.display import display, Markdown\n",
        "\n",
        "# Enhanced Career Guide Function\n",
        "def career_guide():\n",
        "    print(\"Chatbot: Welcome to the Career Guide module! Let’s explore your career options together.\\n\")\n",
        "\n",
        "    # Step 1: Gather User Skills\n",
        "    skills = input(\"Chatbot: What are your **top skills**? (e.g., Python, teamwork, problem-solving): \")\n",
        "\n",
        "    # Step 2: Gather User Interests\n",
        "    interests = input(\"Chatbot: What are your **key interests or passions**? (e.g., technology, creativity, helping others): \")\n",
        "\n",
        "    # Step 3: Generate Career Recommendations\n",
        "    recommendations_prompt = f\"Suggest 3 concise career paths for someone with the following:\\n- Skills: {skills}\\n- Interests: {interests}.\"\n",
        "    career_recommendations = llm.invoke([HumanMessage(content=recommendations_prompt)]).content.strip()\n",
        "    formatted_recommendations = \"* \" + career_recommendations.replace(\"\\n\", \"\\n* \")\n",
        "    print(f\"\\n**Chatbot:** Based on your skills and interests, here are some career paths you might consider:\\n\")\n",
        "    display(Markdown(formatted_recommendations))\n",
        "\n",
        "    # Step 4: Industry Insights\n",
        "    selected_career = input(\"\\nChatbot: Which of these careers interests you the most? (**Type the career name**): \")\n",
        "    insights_prompt = f\"Provide a concise professional overview for the career path '{selected_career}', focusing on:\\n- Job roles\\n- Industry demand\\n- Growth trends.\"\n",
        "    industry_insights = llm.invoke([HumanMessage(content=insights_prompt)]).content.strip()\n",
        "    formatted_insights = \"* \" + industry_insights.replace(\"\\n\", \"\\n* \")\n",
        "    print(f\"\\n**Chatbot:** Here’s an overview of the **{selected_career}** career:\\n\")\n",
        "    display(Markdown(formatted_insights))\n",
        "\n",
        "    # Step 5: Salary Insights\n",
        "    location = input(\"\\nChatbot: Where are you planning to pursue this career? (e.g., USA, India): \")\n",
        "    salary_prompt = f\"Provide average salary ranges for a {selected_career} in {location}.\"\n",
        "    salary_insights = llm.invoke([HumanMessage(content=salary_prompt)]).content.strip()\n",
        "    formatted_salary = \"* \" + salary_insights.replace(\"\\n\", \"\\n* \")\n",
        "    print(f\"\\n**Chatbot:** Here are the salary insights for a **{selected_career}** in **{location}**:\\n\")\n",
        "    display(Markdown(formatted_salary))\n",
        "\n",
        "    # Step 6: Learning Path Suggestions\n",
        "    skill_gap = input(\"\\nChatbot: Are there any **skills you lack** for this career? (e.g., data analysis, public speaking): \")\n",
        "    if skill_gap.strip():\n",
        "        resources_prompt = f\"Suggest 2 concise resources (online courses and books) to learn the skills: {skill_gap}.\"\n",
        "        learning_resources = llm.invoke([HumanMessage(content=resources_prompt)]).content.strip()\n",
        "        formatted_resources = \"* \" + learning_resources.replace(\"\\n\", \"\\n* \")\n",
        "        print(f\"\\n**Chatbot:** Here are resources to help you upskill:\\n\")\n",
        "        display(Markdown(formatted_resources))\n",
        "    else:\n",
        "        print(\"\\n**Chatbot:** You’re all set for this career! Keep learning and growing!\")\n",
        "\n",
        "    print(\"\\nChatbot: That concludes the Career Guide session. Good luck on your journey!\")\n",
        "\n",
        "# Call the Career Guide function\n",
        "career_guide()\n"
      ],
      "metadata": {
        "colab": {
          "base_uri": "https://localhost:8080/",
          "height": 1000
        },
        "id": "QpClIbYWBOfv",
        "outputId": "52991ec4-2ef0-43ec-c0c1-8d322a214dd4"
      },
      "execution_count": null,
      "outputs": [
        {
          "output_type": "stream",
          "name": "stdout",
          "text": [
            "Chatbot: Welcome to the Career Guide module! Let’s explore your career options together.\n",
            "\n",
            "Chatbot: What are your **top skills**? (e.g., Python, teamwork, problem-solving): Python\n",
            "Chatbot: What are your **key interests or passions**? (e.g., technology, creativity, helping others): Tech\n",
            "\n",
            "**Chatbot:** Based on your skills and interests, here are some career paths you might consider:\n",
            "\n"
          ]
        },
        {
          "output_type": "display_data",
          "data": {
            "text/plain": [
              "<IPython.core.display.Markdown object>"
            ],
            "text/markdown": "* 1. **Python Developer:**  Focus on building software applications using Python.\n* 2. **Data Scientist:** Leverage Python's data science libraries (Pandas, NumPy, Scikit-learn) for analysis and modeling.\n* 3. **DevOps Engineer:** Utilize Python for automation and scripting within infrastructure management."
          },
          "metadata": {}
        },
        {
          "output_type": "stream",
          "name": "stdout",
          "text": [
            "\n",
            "Chatbot: Which of these careers interests you the most? (**Type the career name**): Data Scientist\n",
            "\n",
            "**Chatbot:** Here’s an overview of the **Data Scientist** career:\n",
            "\n"
          ]
        },
        {
          "output_type": "display_data",
          "data": {
            "text/plain": [
              "<IPython.core.display.Markdown object>"
            ],
            "text/markdown": "* Data scientists are professionals who extract knowledge and insights from structured and unstructured data using statistical modeling, machine learning, and programming.  Job roles encompass diverse responsibilities, including data mining, model building, algorithm development, data visualization, and communication of findings to both technical and non-technical audiences.  Industry demand for data scientists remains exceptionally high across sectors like technology, finance, healthcare, and marketing, driven by the increasing availability of data and the need for data-driven decision-making.  Growth trends indicate a continued strong demand, with expanding roles focusing on specialized areas like AI/ML engineering, data ethics, and cloud-based data solutions.  The field is evolving rapidly, requiring continuous learning and adaptation to emerging technologies."
          },
          "metadata": {}
        },
        {
          "output_type": "stream",
          "name": "stdout",
          "text": [
            "\n",
            "Chatbot: Where are you planning to pursue this career? (e.g., USA, India): Pakistan\n",
            "\n",
            "**Chatbot:** Here are the salary insights for a **Data Scientist** in **Pakistan**:\n",
            "\n"
          ]
        },
        {
          "output_type": "display_data",
          "data": {
            "text/plain": [
              "<IPython.core.display.Markdown object>"
            ],
            "text/markdown": "* Precise salary ranges for Data Scientists in Pakistan are difficult to pinpoint due to several factors including experience level, company size, location (e.g., Karachi vs. Lahore), and specific skills.  However, based on available data from various online sources and job postings, we can offer a general estimate:\n* \n* **Entry-Level (0-2 years experience):** PKR 60,000 - 150,000 per month.  This range is quite broad due to the significant variation in entry-level opportunities.\n* \n* **Mid-Level (2-5 years experience):** PKR 150,000 - 350,000 per month. This range reflects increasing responsibility and expertise.\n* \n* **Senior-Level (5+ years experience):** PKR 350,000+ per month.  Salaries at this level can go much higher depending on leadership responsibilities and the specific industry.\n* \n* \n* **Important Considerations:**\n* \n* * **These are estimates:**  Actual salaries can vary considerably.\n* * **Location matters:** Major cities like Karachi, Lahore, and Islamabad generally offer higher salaries.\n* * **Company size and industry:** Multinational corporations and tech companies tend to pay more than smaller organizations.\n* * **Skills and expertise:**  Specialization in areas like machine learning, deep learning, or specific industry applications can command higher salaries.\n* * **Negotiation:**  Salary is often negotiable, and candidates with strong skills and experience can leverage their expertise to secure better compensation.\n* \n* \n* It's recommended to consult job boards specific to Pakistan (like Rozee.pk, Indeed Pakistan, etc.) and research individual company salary data to get a more accurate understanding of current market rates.  Salary information online should be viewed as a guideline, not a definitive figure."
          },
          "metadata": {}
        },
        {
          "output_type": "stream",
          "name": "stdout",
          "text": [
            "\n",
            "Chatbot: Are there any **skills you lack** for this career? (e.g., data analysis, public speaking): No\n",
            "\n",
            "**Chatbot:** Here are resources to help you upskill:\n",
            "\n"
          ]
        },
        {
          "output_type": "display_data",
          "data": {
            "text/plain": [
              "<IPython.core.display.Markdown object>"
            ],
            "text/markdown": "* It's impossible to suggest resources to learn the skill \"No.\"  \"No\" isn't a skill in itself; it's a word.  The *skill* lies in *effectively* and *appropriately* using the word \"no\" in various situations.  Therefore, resources would focus on related skills:\n* \n* 1. **Online Course (Indirect):**  Search for courses on **assertiveness training** or **boundary setting**.  Many online platforms (Coursera, Udemy, Skillshare) offer such courses.  These teach you the *techniques* to confidently and respectfully say \"no\" in different contexts,  covering communication styles and conflict resolution.\n* \n* 2. **Book (Indirect):**  \"**When I Say No, I Feel Guilty**\" by Manuel J. Smith. This classic self-help book tackles the psychological aspects of saying no, helping readers overcome feelings of guilt and obligation that prevent them from setting healthy boundaries.\n* \n* \n* These resources address the underlying *skills* needed to effectively utilize the word \"no,\" rather than the word itself."
          },
          "metadata": {}
        },
        {
          "output_type": "stream",
          "name": "stdout",
          "text": [
            "\n",
            "Chatbot: That concludes the Career Guide session. Good luck on your journey!\n"
          ]
        }
      ]
    },
    {
      "cell_type": "markdown",
      "source": [
        "## **Resume Builder:**\n",
        "\n",
        "* Assist users in creating a professional resume by taking inputs like education, skills, and work experience.\n",
        "* Provide tailored suggestions for content and formatting.\n"
      ],
      "metadata": {
        "id": "Kmh-_ZyN-lfE"
      }
    },
    {
      "cell_type": "code",
      "source": [
        "import os\n",
        "from IPython.display import display, Markdown\n",
        "from langchain_core.messages import HumanMessage\n",
        "\n",
        "# Unified Resume Builder Function\n",
        "def resume_builder():\n",
        "    print(\"Chatbot: Hi! I’m your Career Coach. Let’s build your professional resume step by step.\")\n",
        "\n",
        "    # Step 1: Personal Information\n",
        "    name = input(\"Chatbot: What is your full name? \")\n",
        "    contact = input(\"Chatbot: Please provide your contact details (email and phone): \")\n",
        "    linkedin = input(\"Chatbot: Do you have a LinkedIn or portfolio link you'd like to include? (Optional): \")\n",
        "\n",
        "    # Step 2: Auto-generated Career Summary\n",
        "    summary_input = input(\"Chatbot: Can you provide some key details about your career (e.g., field, years of experience, achievements): \")\n",
        "    career_summary = llm.invoke([HumanMessage(content=f\"Generate a professional career summary for: {summary_input}\")]).content\n",
        "    print(f\"Chatbot: Here’s a professionally generated career summary:\\n{career_summary}\")\n",
        "\n",
        "    # Step 3: Education\n",
        "    education = input(\"Chatbot: List your degrees, institutions, and graduation years (e.g., BSc in Computer Science, XYZ University, 2023): \")\n",
        "\n",
        "    # Step 4: Work Experience with Suggestions\n",
        "    work_experience = input(\"Chatbot: Describe your work experience (e.g., job titles, companies, responsibilities): \")\n",
        "\n",
        "    # Step 5: Categorized Skills\n",
        "    skills = input(\"Chatbot: List your key skills (e.g., Python, teamwork, problem-solving): \")\n",
        "    categorized_skills = llm.invoke([HumanMessage(content=f\"Categorize the following skills into technical and interpersonal: {skills}\")]).content\n",
        "    print(f\"Chatbot: I’ve categorized your skills:\\n{categorized_skills}\")\n",
        "\n",
        "    # Format the enhanced resume\n",
        "    resume = f\"\"\"\n",
        "# {name}\n",
        "**Contact**: {contact}\n",
        "**LinkedIn/Portfolio**: {linkedin if linkedin else \"N/A\"}\n",
        "\n",
        "## Career Summary\n",
        "{career_summary}\n",
        "\n",
        "## Education\n",
        "{education}\n",
        "\n",
        "## Work Experience\n",
        "{work_experience}\n",
        "\n",
        "## Skills\n",
        "{categorized_skills}\n",
        "    \"\"\"\n",
        "\n",
        "    # Display the formatted resume\n",
        "    display(Markdown(resume))\n",
        "    print(\"\\nChatbot: Your enhanced resume is ready!\")\n",
        "\n",
        "\n",
        "# Call the resume builder function\n",
        "resume_builder()\n"
      ],
      "metadata": {
        "colab": {
          "base_uri": "https://localhost:8080/",
          "height": 827
        },
        "id": "ggI309X29jwN",
        "outputId": "72982b14-e322-4b2d-8cc4-fd5fe10fc596"
      },
      "execution_count": null,
      "outputs": [
        {
          "output_type": "stream",
          "name": "stdout",
          "text": [
            "Chatbot: Hi! I’m your Career Coach. Let’s build your professional resume step by step.\n",
            "Chatbot: What is your full name? ABD\n",
            "Chatbot: Please provide your contact details (email and phone): 012344566 hamza@gmail.com\n",
            "Chatbot: Do you have a LinkedIn or portfolio link you'd like to include? (Optional): No\n",
            "Chatbot: Can you provide some key details about your career (e.g., field, years of experience, achievements): Web Developer 1 year experiene\n",
            "Chatbot: Here’s a professionally generated career summary:\n",
            "Highly motivated and results-oriented Web Developer with one year of experience in designing, developing, and maintaining responsive and user-friendly websites. Proven ability to translate designs and wireframes into clean, efficient, and well-documented code.  Proficient in [List 2-3 key technologies e.g., HTML, CSS, JavaScript] and experienced with [mention relevant frameworks/libraries e.g., React, Node.js, or specific CMS like WordPress].  Eager to contribute to a dynamic team and continue developing expertise in web development best practices.\n",
            "\n",
            "Chatbot: List your degrees, institutions, and graduation years (e.g., BSc in Computer Science, XYZ University, 2023): BSCS from VU\n",
            "Chatbot: Describe your work experience (e.g., job titles, companies, responsibilities): Web Developer Freelancing\n",
            "Chatbot: List your key skills (e.g., Python, teamwork, problem-solving): NextJs React Typescript Python Docker Cloud\n",
            "Chatbot: I’ve categorized your skills:\n",
            "* **Technical Skills:** Next.js, React, Typescript, Python, Docker, Cloud (this is a broad category encompassing various cloud platforms like AWS, Azure, GCP etc., each with its own specific technical skills)\n",
            "\n",
            "* **Interpersonal Skills:**  None of the items listed are interpersonal skills.  Interpersonal skills relate to how you interact with others (e.g., communication, teamwork, empathy).\n",
            "\n"
          ]
        },
        {
          "output_type": "display_data",
          "data": {
            "text/plain": [
              "<IPython.core.display.Markdown object>"
            ],
            "text/markdown": "\n# ABD\n**Contact**: 012344566 hamza@gmail.com  \n**LinkedIn/Portfolio**: No  \n\n## Career Summary\nHighly motivated and results-oriented Web Developer with one year of experience in designing, developing, and maintaining responsive and user-friendly websites. Proven ability to translate designs and wireframes into clean, efficient, and well-documented code.  Proficient in [List 2-3 key technologies e.g., HTML, CSS, JavaScript] and experienced with [mention relevant frameworks/libraries e.g., React, Node.js, or specific CMS like WordPress].  Eager to contribute to a dynamic team and continue developing expertise in web development best practices.\n\n\n## Education\nBSCS from VU\n\n## Work Experience\nWeb Developer Freelancing\n\n## Skills\n* **Technical Skills:** Next.js, React, Typescript, Python, Docker, Cloud (this is a broad category encompassing various cloud platforms like AWS, Azure, GCP etc., each with its own specific technical skills)\n\n* **Interpersonal Skills:**  None of the items listed are interpersonal skills.  Interpersonal skills relate to how you interact with others (e.g., communication, teamwork, empathy).\n\n    "
          },
          "metadata": {}
        },
        {
          "output_type": "stream",
          "name": "stdout",
          "text": [
            "\n",
            "Chatbot: Your enhanced resume is ready!\n"
          ]
        }
      ]
    }
  ]
}